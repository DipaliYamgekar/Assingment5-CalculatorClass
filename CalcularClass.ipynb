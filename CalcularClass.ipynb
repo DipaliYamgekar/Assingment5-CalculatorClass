{
 "cells": [
  {
   "cell_type": "code",
   "execution_count": 8,
   "id": "5c7bceed",
   "metadata": {},
   "outputs": [
    {
     "name": "stdout",
     "output_type": "stream",
     "text": [
      "104\n",
      "84\n",
      "940\n",
      "9.4\n"
     ]
    }
   ],
   "source": [
    "\n",
    "class Calculator:\n",
    "    def __init__(self):\n",
    "        pass\n",
    "    def addition(self):\n",
    "        return (a+b)\n",
    "    def subtraction(self):\n",
    "        return(a-b)\n",
    "    def multiplication(self):\n",
    "        return (a*b)\n",
    "    def division(self):\n",
    "        return (a/b)\n",
    "a = 94\n",
    "b = 10\n",
    "obj = Calculator()\n",
    "print(obj.addition())\n",
    "print(obj.subtraction())\n",
    "print(obj.multiplication())\n",
    "print(obj.division())\n"
   ]
  },
  {
   "cell_type": "code",
   "execution_count": null,
   "id": "ce514025",
   "metadata": {},
   "outputs": [],
   "source": []
  }
 ],
 "metadata": {
  "kernelspec": {
   "display_name": "Python 3 (ipykernel)",
   "language": "python",
   "name": "python3"
  },
  "language_info": {
   "codemirror_mode": {
    "name": "ipython",
    "version": 3
   },
   "file_extension": ".py",
   "mimetype": "text/x-python",
   "name": "python",
   "nbconvert_exporter": "python",
   "pygments_lexer": "ipython3",
   "version": "3.9.12"
  }
 },
 "nbformat": 4,
 "nbformat_minor": 5
}
